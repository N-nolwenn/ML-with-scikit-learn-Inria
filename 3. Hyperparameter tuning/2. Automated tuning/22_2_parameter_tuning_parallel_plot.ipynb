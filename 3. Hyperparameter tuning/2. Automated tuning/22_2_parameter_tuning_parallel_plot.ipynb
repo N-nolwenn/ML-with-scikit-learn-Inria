{
 "cells": [
  {
   "cell_type": "markdown",
   "id": "74e50aad",
   "metadata": {},
   "source": [
    "# Analysis of hyperparameter search results"
   ]
  },
  {
   "cell_type": "markdown",
   "id": "7e7eb644",
   "metadata": {},
   "source": [
    "In the previous notebook we showed how to implement a randomized search for\n",
    "tuning the hyperparameters of a `HistGradientBoostingClassifier` to fit the\n",
    "`adult_census` dataset. In practice, a randomized hyperparameter search is\n",
    "usually run with a large number of iterations."
   ]
  },
  {
   "cell_type": "markdown",
   "id": "4741f540",
   "metadata": {},
   "source": [
    "In order to avoid the computational cost and still make a decent analysis, we\n",
    "load the results obtained from a similar search with 500 iterations."
   ]
  },
  {
   "cell_type": "code",
   "execution_count": 1,
   "id": "92a81d8c",
   "metadata": {},
   "outputs": [
    {
     "data": {
      "text/html": [
       "<div>\n",
       "<style scoped>\n",
       "    .dataframe tbody tr th:only-of-type {\n",
       "        vertical-align: middle;\n",
       "    }\n",
       "\n",
       "    .dataframe tbody tr th {\n",
       "        vertical-align: top;\n",
       "    }\n",
       "\n",
       "    .dataframe thead th {\n",
       "        text-align: right;\n",
       "    }\n",
       "</style>\n",
       "<table border=\"1\" class=\"dataframe\">\n",
       "  <thead>\n",
       "    <tr style=\"text-align: right;\">\n",
       "      <th></th>\n",
       "      <th>mean_fit_time</th>\n",
       "      <th>std_fit_time</th>\n",
       "      <th>mean_score_time</th>\n",
       "      <th>std_score_time</th>\n",
       "      <th>param_classifier__l2_regularization</th>\n",
       "      <th>param_classifier__learning_rate</th>\n",
       "      <th>param_classifier__max_bins</th>\n",
       "      <th>param_classifier__max_leaf_nodes</th>\n",
       "      <th>param_classifier__min_samples_leaf</th>\n",
       "      <th>params</th>\n",
       "      <th>split0_test_score</th>\n",
       "      <th>split1_test_score</th>\n",
       "      <th>split2_test_score</th>\n",
       "      <th>split3_test_score</th>\n",
       "      <th>split4_test_score</th>\n",
       "      <th>mean_test_score</th>\n",
       "      <th>std_test_score</th>\n",
       "      <th>rank_test_score</th>\n",
       "    </tr>\n",
       "  </thead>\n",
       "  <tbody>\n",
       "    <tr>\n",
       "      <th>0</th>\n",
       "      <td>0.384735</td>\n",
       "      <td>0.028353</td>\n",
       "      <td>0.063872</td>\n",
       "      <td>0.011545</td>\n",
       "      <td>0.003643</td>\n",
       "      <td>0.006954</td>\n",
       "      <td>136</td>\n",
       "      <td>7</td>\n",
       "      <td>46</td>\n",
       "      <td>{'classifier__l2_regularization': np.float64(0...</td>\n",
       "      <td>0.811110</td>\n",
       "      <td>0.813404</td>\n",
       "      <td>0.807535</td>\n",
       "      <td>0.812039</td>\n",
       "      <td>0.813404</td>\n",
       "      <td>0.811498</td>\n",
       "      <td>0.002164</td>\n",
       "      <td>220</td>\n",
       "    </tr>\n",
       "    <tr>\n",
       "      <th>1</th>\n",
       "      <td>0.165280</td>\n",
       "      <td>0.029995</td>\n",
       "      <td>0.027261</td>\n",
       "      <td>0.003329</td>\n",
       "      <td>0.000068</td>\n",
       "      <td>4.713986</td>\n",
       "      <td>2</td>\n",
       "      <td>66</td>\n",
       "      <td>7</td>\n",
       "      <td>{'classifier__l2_regularization': np.float64(6...</td>\n",
       "      <td>0.730722</td>\n",
       "      <td>0.682910</td>\n",
       "      <td>0.657658</td>\n",
       "      <td>0.719219</td>\n",
       "      <td>0.733279</td>\n",
       "      <td>0.704758</td>\n",
       "      <td>0.029639</td>\n",
       "      <td>448</td>\n",
       "    </tr>\n",
       "    <tr>\n",
       "      <th>2</th>\n",
       "      <td>0.508922</td>\n",
       "      <td>0.033357</td>\n",
       "      <td>0.073756</td>\n",
       "      <td>0.004274</td>\n",
       "      <td>46.346609</td>\n",
       "      <td>0.011492</td>\n",
       "      <td>86</td>\n",
       "      <td>18</td>\n",
       "      <td>5</td>\n",
       "      <td>{'classifier__l2_regularization': np.float64(4...</td>\n",
       "      <td>0.841136</td>\n",
       "      <td>0.828692</td>\n",
       "      <td>0.836609</td>\n",
       "      <td>0.832651</td>\n",
       "      <td>0.834152</td>\n",
       "      <td>0.834648</td>\n",
       "      <td>0.004139</td>\n",
       "      <td>161</td>\n",
       "    </tr>\n",
       "    <tr>\n",
       "      <th>3</th>\n",
       "      <td>0.306325</td>\n",
       "      <td>0.002655</td>\n",
       "      <td>0.047008</td>\n",
       "      <td>0.003410</td>\n",
       "      <td>0.004376</td>\n",
       "      <td>0.036193</td>\n",
       "      <td>115</td>\n",
       "      <td>3</td>\n",
       "      <td>10</td>\n",
       "      <td>{'classifier__l2_regularization': np.float64(0...</td>\n",
       "      <td>0.819026</td>\n",
       "      <td>0.813814</td>\n",
       "      <td>0.816271</td>\n",
       "      <td>0.813268</td>\n",
       "      <td>0.815179</td>\n",
       "      <td>0.815511</td>\n",
       "      <td>0.002047</td>\n",
       "      <td>210</td>\n",
       "    </tr>\n",
       "    <tr>\n",
       "      <th>4</th>\n",
       "      <td>0.277053</td>\n",
       "      <td>0.059194</td>\n",
       "      <td>0.044080</td>\n",
       "      <td>0.013675</td>\n",
       "      <td>11.866169</td>\n",
       "      <td>0.547657</td>\n",
       "      <td>5</td>\n",
       "      <td>7</td>\n",
       "      <td>2</td>\n",
       "      <td>{'classifier__l2_regularization': np.float64(1...</td>\n",
       "      <td>0.828170</td>\n",
       "      <td>0.827191</td>\n",
       "      <td>0.834562</td>\n",
       "      <td>0.827600</td>\n",
       "      <td>0.831286</td>\n",
       "      <td>0.829762</td>\n",
       "      <td>0.002799</td>\n",
       "      <td>175</td>\n",
       "    </tr>\n",
       "    <tr>\n",
       "      <th>...</th>\n",
       "      <td>...</td>\n",
       "      <td>...</td>\n",
       "      <td>...</td>\n",
       "      <td>...</td>\n",
       "      <td>...</td>\n",
       "      <td>...</td>\n",
       "      <td>...</td>\n",
       "      <td>...</td>\n",
       "      <td>...</td>\n",
       "      <td>...</td>\n",
       "      <td>...</td>\n",
       "      <td>...</td>\n",
       "      <td>...</td>\n",
       "      <td>...</td>\n",
       "      <td>...</td>\n",
       "      <td>...</td>\n",
       "      <td>...</td>\n",
       "      <td>...</td>\n",
       "    </tr>\n",
       "    <tr>\n",
       "      <th>495</th>\n",
       "      <td>0.431193</td>\n",
       "      <td>0.045479</td>\n",
       "      <td>0.066768</td>\n",
       "      <td>0.003767</td>\n",
       "      <td>2.561853</td>\n",
       "      <td>0.284833</td>\n",
       "      <td>145</td>\n",
       "      <td>10</td>\n",
       "      <td>33</td>\n",
       "      <td>{'classifier__l2_regularization': np.float64(2...</td>\n",
       "      <td>0.866521</td>\n",
       "      <td>0.871963</td>\n",
       "      <td>0.869779</td>\n",
       "      <td>0.866639</td>\n",
       "      <td>0.871553</td>\n",
       "      <td>0.869291</td>\n",
       "      <td>0.002332</td>\n",
       "      <td>4</td>\n",
       "    </tr>\n",
       "    <tr>\n",
       "      <th>496</th>\n",
       "      <td>0.532977</td>\n",
       "      <td>0.013556</td>\n",
       "      <td>0.079705</td>\n",
       "      <td>0.002277</td>\n",
       "      <td>0.000472</td>\n",
       "      <td>0.039836</td>\n",
       "      <td>78</td>\n",
       "      <td>16</td>\n",
       "      <td>19</td>\n",
       "      <td>{'classifier__l2_regularization': np.float64(0...</td>\n",
       "      <td>0.853692</td>\n",
       "      <td>0.858995</td>\n",
       "      <td>0.857221</td>\n",
       "      <td>0.852307</td>\n",
       "      <td>0.856675</td>\n",
       "      <td>0.855778</td>\n",
       "      <td>0.002435</td>\n",
       "      <td>50</td>\n",
       "    </tr>\n",
       "    <tr>\n",
       "      <th>497</th>\n",
       "      <td>0.862595</td>\n",
       "      <td>0.008430</td>\n",
       "      <td>0.087274</td>\n",
       "      <td>0.005320</td>\n",
       "      <td>0.000125</td>\n",
       "      <td>0.013261</td>\n",
       "      <td>6</td>\n",
       "      <td>68</td>\n",
       "      <td>13</td>\n",
       "      <td>{'classifier__l2_regularization': np.float64(0...</td>\n",
       "      <td>0.823529</td>\n",
       "      <td>0.823642</td>\n",
       "      <td>0.821867</td>\n",
       "      <td>0.824051</td>\n",
       "      <td>0.823232</td>\n",
       "      <td>0.823264</td>\n",
       "      <td>0.000746</td>\n",
       "      <td>195</td>\n",
       "    </tr>\n",
       "    <tr>\n",
       "      <th>498</th>\n",
       "      <td>0.138513</td>\n",
       "      <td>0.004952</td>\n",
       "      <td>0.026256</td>\n",
       "      <td>0.003547</td>\n",
       "      <td>13.797654</td>\n",
       "      <td>9.185270</td>\n",
       "      <td>13</td>\n",
       "      <td>7</td>\n",
       "      <td>1</td>\n",
       "      <td>{'classifier__l2_regularization': np.float64(1...</td>\n",
       "      <td>0.741777</td>\n",
       "      <td>0.498362</td>\n",
       "      <td>0.596233</td>\n",
       "      <td>0.737101</td>\n",
       "      <td>0.547775</td>\n",
       "      <td>0.624249</td>\n",
       "      <td>0.099024</td>\n",
       "      <td>478</td>\n",
       "    </tr>\n",
       "    <tr>\n",
       "      <th>499</th>\n",
       "      <td>0.882352</td>\n",
       "      <td>0.065716</td>\n",
       "      <td>0.091273</td>\n",
       "      <td>0.007584</td>\n",
       "      <td>0.000005</td>\n",
       "      <td>0.009530</td>\n",
       "      <td>140</td>\n",
       "      <td>66</td>\n",
       "      <td>9</td>\n",
       "      <td>{'classifier__l2_regularization': np.float64(5...</td>\n",
       "      <td>0.851918</td>\n",
       "      <td>0.846437</td>\n",
       "      <td>0.851351</td>\n",
       "      <td>0.849850</td>\n",
       "      <td>0.852580</td>\n",
       "      <td>0.850427</td>\n",
       "      <td>0.002189</td>\n",
       "      <td>98</td>\n",
       "    </tr>\n",
       "  </tbody>\n",
       "</table>\n",
       "<p>500 rows × 18 columns</p>\n",
       "</div>"
      ],
      "text/plain": [
       "     mean_fit_time  std_fit_time  mean_score_time  std_score_time  \\\n",
       "0         0.384735      0.028353         0.063872        0.011545   \n",
       "1         0.165280      0.029995         0.027261        0.003329   \n",
       "2         0.508922      0.033357         0.073756        0.004274   \n",
       "3         0.306325      0.002655         0.047008        0.003410   \n",
       "4         0.277053      0.059194         0.044080        0.013675   \n",
       "..             ...           ...              ...             ...   \n",
       "495       0.431193      0.045479         0.066768        0.003767   \n",
       "496       0.532977      0.013556         0.079705        0.002277   \n",
       "497       0.862595      0.008430         0.087274        0.005320   \n",
       "498       0.138513      0.004952         0.026256        0.003547   \n",
       "499       0.882352      0.065716         0.091273        0.007584   \n",
       "\n",
       "     param_classifier__l2_regularization  param_classifier__learning_rate  \\\n",
       "0                               0.003643                         0.006954   \n",
       "1                               0.000068                         4.713986   \n",
       "2                              46.346609                         0.011492   \n",
       "3                               0.004376                         0.036193   \n",
       "4                              11.866169                         0.547657   \n",
       "..                                   ...                              ...   \n",
       "495                             2.561853                         0.284833   \n",
       "496                             0.000472                         0.039836   \n",
       "497                             0.000125                         0.013261   \n",
       "498                            13.797654                         9.185270   \n",
       "499                             0.000005                         0.009530   \n",
       "\n",
       "     param_classifier__max_bins  param_classifier__max_leaf_nodes  \\\n",
       "0                           136                                 7   \n",
       "1                             2                                66   \n",
       "2                            86                                18   \n",
       "3                           115                                 3   \n",
       "4                             5                                 7   \n",
       "..                          ...                               ...   \n",
       "495                         145                                10   \n",
       "496                          78                                16   \n",
       "497                           6                                68   \n",
       "498                          13                                 7   \n",
       "499                         140                                66   \n",
       "\n",
       "     param_classifier__min_samples_leaf  \\\n",
       "0                                    46   \n",
       "1                                     7   \n",
       "2                                     5   \n",
       "3                                    10   \n",
       "4                                     2   \n",
       "..                                  ...   \n",
       "495                                  33   \n",
       "496                                  19   \n",
       "497                                  13   \n",
       "498                                   1   \n",
       "499                                   9   \n",
       "\n",
       "                                                params  split0_test_score  \\\n",
       "0    {'classifier__l2_regularization': np.float64(0...           0.811110   \n",
       "1    {'classifier__l2_regularization': np.float64(6...           0.730722   \n",
       "2    {'classifier__l2_regularization': np.float64(4...           0.841136   \n",
       "3    {'classifier__l2_regularization': np.float64(0...           0.819026   \n",
       "4    {'classifier__l2_regularization': np.float64(1...           0.828170   \n",
       "..                                                 ...                ...   \n",
       "495  {'classifier__l2_regularization': np.float64(2...           0.866521   \n",
       "496  {'classifier__l2_regularization': np.float64(0...           0.853692   \n",
       "497  {'classifier__l2_regularization': np.float64(0...           0.823529   \n",
       "498  {'classifier__l2_regularization': np.float64(1...           0.741777   \n",
       "499  {'classifier__l2_regularization': np.float64(5...           0.851918   \n",
       "\n",
       "     split1_test_score  split2_test_score  split3_test_score  \\\n",
       "0             0.813404           0.807535           0.812039   \n",
       "1             0.682910           0.657658           0.719219   \n",
       "2             0.828692           0.836609           0.832651   \n",
       "3             0.813814           0.816271           0.813268   \n",
       "4             0.827191           0.834562           0.827600   \n",
       "..                 ...                ...                ...   \n",
       "495           0.871963           0.869779           0.866639   \n",
       "496           0.858995           0.857221           0.852307   \n",
       "497           0.823642           0.821867           0.824051   \n",
       "498           0.498362           0.596233           0.737101   \n",
       "499           0.846437           0.851351           0.849850   \n",
       "\n",
       "     split4_test_score  mean_test_score  std_test_score  rank_test_score  \n",
       "0             0.813404         0.811498        0.002164              220  \n",
       "1             0.733279         0.704758        0.029639              448  \n",
       "2             0.834152         0.834648        0.004139              161  \n",
       "3             0.815179         0.815511        0.002047              210  \n",
       "4             0.831286         0.829762        0.002799              175  \n",
       "..                 ...              ...             ...              ...  \n",
       "495           0.871553         0.869291        0.002332                4  \n",
       "496           0.856675         0.855778        0.002435               50  \n",
       "497           0.823232         0.823264        0.000746              195  \n",
       "498           0.547775         0.624249        0.099024              478  \n",
       "499           0.852580         0.850427        0.002189               98  \n",
       "\n",
       "[500 rows x 18 columns]"
      ]
     },
     "execution_count": 1,
     "metadata": {},
     "output_type": "execute_result"
    }
   ],
   "source": [
    "import pandas as pd\n",
    "\n",
    "cv_results = pd.read_csv(\n",
    "    \"random_search_results.csv\", index_col=0\n",
    ")\n",
    "cv_results"
   ]
  },
  {
   "cell_type": "markdown",
   "id": "22080927",
   "metadata": {
    "lines_to_next_cell": 2
   },
   "source": [
    "We define a function to remove the prefixes in the hyperparameters column\n",
    "names."
   ]
  },
  {
   "cell_type": "code",
   "execution_count": 2,
   "id": "938a6134",
   "metadata": {},
   "outputs": [
    {
     "data": {
      "text/html": [
       "<div>\n",
       "<style scoped>\n",
       "    .dataframe tbody tr th:only-of-type {\n",
       "        vertical-align: middle;\n",
       "    }\n",
       "\n",
       "    .dataframe tbody tr th {\n",
       "        vertical-align: top;\n",
       "    }\n",
       "\n",
       "    .dataframe thead th {\n",
       "        text-align: right;\n",
       "    }\n",
       "</style>\n",
       "<table border=\"1\" class=\"dataframe\">\n",
       "  <thead>\n",
       "    <tr style=\"text-align: right;\">\n",
       "      <th></th>\n",
       "      <th>mean_fit_time</th>\n",
       "      <th>std_fit_time</th>\n",
       "      <th>mean_score_time</th>\n",
       "      <th>std_score_time</th>\n",
       "      <th>l2_regularization</th>\n",
       "      <th>learning_rate</th>\n",
       "      <th>max_bins</th>\n",
       "      <th>max_leaf_nodes</th>\n",
       "      <th>min_samples_leaf</th>\n",
       "      <th>params</th>\n",
       "      <th>split0_test_score</th>\n",
       "      <th>split1_test_score</th>\n",
       "      <th>split2_test_score</th>\n",
       "      <th>split3_test_score</th>\n",
       "      <th>split4_test_score</th>\n",
       "      <th>mean_test_score</th>\n",
       "      <th>std_test_score</th>\n",
       "      <th>rank_test_score</th>\n",
       "    </tr>\n",
       "  </thead>\n",
       "  <tbody>\n",
       "    <tr>\n",
       "      <th>0</th>\n",
       "      <td>0.384735</td>\n",
       "      <td>0.028353</td>\n",
       "      <td>0.063872</td>\n",
       "      <td>0.011545</td>\n",
       "      <td>0.003643</td>\n",
       "      <td>0.006954</td>\n",
       "      <td>136</td>\n",
       "      <td>7</td>\n",
       "      <td>46</td>\n",
       "      <td>{'classifier__l2_regularization': np.float64(0...</td>\n",
       "      <td>0.811110</td>\n",
       "      <td>0.813404</td>\n",
       "      <td>0.807535</td>\n",
       "      <td>0.812039</td>\n",
       "      <td>0.813404</td>\n",
       "      <td>0.811498</td>\n",
       "      <td>0.002164</td>\n",
       "      <td>220</td>\n",
       "    </tr>\n",
       "    <tr>\n",
       "      <th>1</th>\n",
       "      <td>0.165280</td>\n",
       "      <td>0.029995</td>\n",
       "      <td>0.027261</td>\n",
       "      <td>0.003329</td>\n",
       "      <td>0.000068</td>\n",
       "      <td>4.713986</td>\n",
       "      <td>2</td>\n",
       "      <td>66</td>\n",
       "      <td>7</td>\n",
       "      <td>{'classifier__l2_regularization': np.float64(6...</td>\n",
       "      <td>0.730722</td>\n",
       "      <td>0.682910</td>\n",
       "      <td>0.657658</td>\n",
       "      <td>0.719219</td>\n",
       "      <td>0.733279</td>\n",
       "      <td>0.704758</td>\n",
       "      <td>0.029639</td>\n",
       "      <td>448</td>\n",
       "    </tr>\n",
       "    <tr>\n",
       "      <th>2</th>\n",
       "      <td>0.508922</td>\n",
       "      <td>0.033357</td>\n",
       "      <td>0.073756</td>\n",
       "      <td>0.004274</td>\n",
       "      <td>46.346609</td>\n",
       "      <td>0.011492</td>\n",
       "      <td>86</td>\n",
       "      <td>18</td>\n",
       "      <td>5</td>\n",
       "      <td>{'classifier__l2_regularization': np.float64(4...</td>\n",
       "      <td>0.841136</td>\n",
       "      <td>0.828692</td>\n",
       "      <td>0.836609</td>\n",
       "      <td>0.832651</td>\n",
       "      <td>0.834152</td>\n",
       "      <td>0.834648</td>\n",
       "      <td>0.004139</td>\n",
       "      <td>161</td>\n",
       "    </tr>\n",
       "    <tr>\n",
       "      <th>3</th>\n",
       "      <td>0.306325</td>\n",
       "      <td>0.002655</td>\n",
       "      <td>0.047008</td>\n",
       "      <td>0.003410</td>\n",
       "      <td>0.004376</td>\n",
       "      <td>0.036193</td>\n",
       "      <td>115</td>\n",
       "      <td>3</td>\n",
       "      <td>10</td>\n",
       "      <td>{'classifier__l2_regularization': np.float64(0...</td>\n",
       "      <td>0.819026</td>\n",
       "      <td>0.813814</td>\n",
       "      <td>0.816271</td>\n",
       "      <td>0.813268</td>\n",
       "      <td>0.815179</td>\n",
       "      <td>0.815511</td>\n",
       "      <td>0.002047</td>\n",
       "      <td>210</td>\n",
       "    </tr>\n",
       "    <tr>\n",
       "      <th>4</th>\n",
       "      <td>0.277053</td>\n",
       "      <td>0.059194</td>\n",
       "      <td>0.044080</td>\n",
       "      <td>0.013675</td>\n",
       "      <td>11.866169</td>\n",
       "      <td>0.547657</td>\n",
       "      <td>5</td>\n",
       "      <td>7</td>\n",
       "      <td>2</td>\n",
       "      <td>{'classifier__l2_regularization': np.float64(1...</td>\n",
       "      <td>0.828170</td>\n",
       "      <td>0.827191</td>\n",
       "      <td>0.834562</td>\n",
       "      <td>0.827600</td>\n",
       "      <td>0.831286</td>\n",
       "      <td>0.829762</td>\n",
       "      <td>0.002799</td>\n",
       "      <td>175</td>\n",
       "    </tr>\n",
       "    <tr>\n",
       "      <th>...</th>\n",
       "      <td>...</td>\n",
       "      <td>...</td>\n",
       "      <td>...</td>\n",
       "      <td>...</td>\n",
       "      <td>...</td>\n",
       "      <td>...</td>\n",
       "      <td>...</td>\n",
       "      <td>...</td>\n",
       "      <td>...</td>\n",
       "      <td>...</td>\n",
       "      <td>...</td>\n",
       "      <td>...</td>\n",
       "      <td>...</td>\n",
       "      <td>...</td>\n",
       "      <td>...</td>\n",
       "      <td>...</td>\n",
       "      <td>...</td>\n",
       "      <td>...</td>\n",
       "    </tr>\n",
       "    <tr>\n",
       "      <th>495</th>\n",
       "      <td>0.431193</td>\n",
       "      <td>0.045479</td>\n",
       "      <td>0.066768</td>\n",
       "      <td>0.003767</td>\n",
       "      <td>2.561853</td>\n",
       "      <td>0.284833</td>\n",
       "      <td>145</td>\n",
       "      <td>10</td>\n",
       "      <td>33</td>\n",
       "      <td>{'classifier__l2_regularization': np.float64(2...</td>\n",
       "      <td>0.866521</td>\n",
       "      <td>0.871963</td>\n",
       "      <td>0.869779</td>\n",
       "      <td>0.866639</td>\n",
       "      <td>0.871553</td>\n",
       "      <td>0.869291</td>\n",
       "      <td>0.002332</td>\n",
       "      <td>4</td>\n",
       "    </tr>\n",
       "    <tr>\n",
       "      <th>496</th>\n",
       "      <td>0.532977</td>\n",
       "      <td>0.013556</td>\n",
       "      <td>0.079705</td>\n",
       "      <td>0.002277</td>\n",
       "      <td>0.000472</td>\n",
       "      <td>0.039836</td>\n",
       "      <td>78</td>\n",
       "      <td>16</td>\n",
       "      <td>19</td>\n",
       "      <td>{'classifier__l2_regularization': np.float64(0...</td>\n",
       "      <td>0.853692</td>\n",
       "      <td>0.858995</td>\n",
       "      <td>0.857221</td>\n",
       "      <td>0.852307</td>\n",
       "      <td>0.856675</td>\n",
       "      <td>0.855778</td>\n",
       "      <td>0.002435</td>\n",
       "      <td>50</td>\n",
       "    </tr>\n",
       "    <tr>\n",
       "      <th>497</th>\n",
       "      <td>0.862595</td>\n",
       "      <td>0.008430</td>\n",
       "      <td>0.087274</td>\n",
       "      <td>0.005320</td>\n",
       "      <td>0.000125</td>\n",
       "      <td>0.013261</td>\n",
       "      <td>6</td>\n",
       "      <td>68</td>\n",
       "      <td>13</td>\n",
       "      <td>{'classifier__l2_regularization': np.float64(0...</td>\n",
       "      <td>0.823529</td>\n",
       "      <td>0.823642</td>\n",
       "      <td>0.821867</td>\n",
       "      <td>0.824051</td>\n",
       "      <td>0.823232</td>\n",
       "      <td>0.823264</td>\n",
       "      <td>0.000746</td>\n",
       "      <td>195</td>\n",
       "    </tr>\n",
       "    <tr>\n",
       "      <th>498</th>\n",
       "      <td>0.138513</td>\n",
       "      <td>0.004952</td>\n",
       "      <td>0.026256</td>\n",
       "      <td>0.003547</td>\n",
       "      <td>13.797654</td>\n",
       "      <td>9.185270</td>\n",
       "      <td>13</td>\n",
       "      <td>7</td>\n",
       "      <td>1</td>\n",
       "      <td>{'classifier__l2_regularization': np.float64(1...</td>\n",
       "      <td>0.741777</td>\n",
       "      <td>0.498362</td>\n",
       "      <td>0.596233</td>\n",
       "      <td>0.737101</td>\n",
       "      <td>0.547775</td>\n",
       "      <td>0.624249</td>\n",
       "      <td>0.099024</td>\n",
       "      <td>478</td>\n",
       "    </tr>\n",
       "    <tr>\n",
       "      <th>499</th>\n",
       "      <td>0.882352</td>\n",
       "      <td>0.065716</td>\n",
       "      <td>0.091273</td>\n",
       "      <td>0.007584</td>\n",
       "      <td>0.000005</td>\n",
       "      <td>0.009530</td>\n",
       "      <td>140</td>\n",
       "      <td>66</td>\n",
       "      <td>9</td>\n",
       "      <td>{'classifier__l2_regularization': np.float64(5...</td>\n",
       "      <td>0.851918</td>\n",
       "      <td>0.846437</td>\n",
       "      <td>0.851351</td>\n",
       "      <td>0.849850</td>\n",
       "      <td>0.852580</td>\n",
       "      <td>0.850427</td>\n",
       "      <td>0.002189</td>\n",
       "      <td>98</td>\n",
       "    </tr>\n",
       "  </tbody>\n",
       "</table>\n",
       "<p>500 rows × 18 columns</p>\n",
       "</div>"
      ],
      "text/plain": [
       "     mean_fit_time  std_fit_time  mean_score_time  std_score_time  \\\n",
       "0         0.384735      0.028353         0.063872        0.011545   \n",
       "1         0.165280      0.029995         0.027261        0.003329   \n",
       "2         0.508922      0.033357         0.073756        0.004274   \n",
       "3         0.306325      0.002655         0.047008        0.003410   \n",
       "4         0.277053      0.059194         0.044080        0.013675   \n",
       "..             ...           ...              ...             ...   \n",
       "495       0.431193      0.045479         0.066768        0.003767   \n",
       "496       0.532977      0.013556         0.079705        0.002277   \n",
       "497       0.862595      0.008430         0.087274        0.005320   \n",
       "498       0.138513      0.004952         0.026256        0.003547   \n",
       "499       0.882352      0.065716         0.091273        0.007584   \n",
       "\n",
       "     l2_regularization  learning_rate  max_bins  max_leaf_nodes  \\\n",
       "0             0.003643       0.006954       136               7   \n",
       "1             0.000068       4.713986         2              66   \n",
       "2            46.346609       0.011492        86              18   \n",
       "3             0.004376       0.036193       115               3   \n",
       "4            11.866169       0.547657         5               7   \n",
       "..                 ...            ...       ...             ...   \n",
       "495           2.561853       0.284833       145              10   \n",
       "496           0.000472       0.039836        78              16   \n",
       "497           0.000125       0.013261         6              68   \n",
       "498          13.797654       9.185270        13               7   \n",
       "499           0.000005       0.009530       140              66   \n",
       "\n",
       "     min_samples_leaf                                             params  \\\n",
       "0                  46  {'classifier__l2_regularization': np.float64(0...   \n",
       "1                   7  {'classifier__l2_regularization': np.float64(6...   \n",
       "2                   5  {'classifier__l2_regularization': np.float64(4...   \n",
       "3                  10  {'classifier__l2_regularization': np.float64(0...   \n",
       "4                   2  {'classifier__l2_regularization': np.float64(1...   \n",
       "..                ...                                                ...   \n",
       "495                33  {'classifier__l2_regularization': np.float64(2...   \n",
       "496                19  {'classifier__l2_regularization': np.float64(0...   \n",
       "497                13  {'classifier__l2_regularization': np.float64(0...   \n",
       "498                 1  {'classifier__l2_regularization': np.float64(1...   \n",
       "499                 9  {'classifier__l2_regularization': np.float64(5...   \n",
       "\n",
       "     split0_test_score  split1_test_score  split2_test_score  \\\n",
       "0             0.811110           0.813404           0.807535   \n",
       "1             0.730722           0.682910           0.657658   \n",
       "2             0.841136           0.828692           0.836609   \n",
       "3             0.819026           0.813814           0.816271   \n",
       "4             0.828170           0.827191           0.834562   \n",
       "..                 ...                ...                ...   \n",
       "495           0.866521           0.871963           0.869779   \n",
       "496           0.853692           0.858995           0.857221   \n",
       "497           0.823529           0.823642           0.821867   \n",
       "498           0.741777           0.498362           0.596233   \n",
       "499           0.851918           0.846437           0.851351   \n",
       "\n",
       "     split3_test_score  split4_test_score  mean_test_score  std_test_score  \\\n",
       "0             0.812039           0.813404         0.811498        0.002164   \n",
       "1             0.719219           0.733279         0.704758        0.029639   \n",
       "2             0.832651           0.834152         0.834648        0.004139   \n",
       "3             0.813268           0.815179         0.815511        0.002047   \n",
       "4             0.827600           0.831286         0.829762        0.002799   \n",
       "..                 ...                ...              ...             ...   \n",
       "495           0.866639           0.871553         0.869291        0.002332   \n",
       "496           0.852307           0.856675         0.855778        0.002435   \n",
       "497           0.824051           0.823232         0.823264        0.000746   \n",
       "498           0.737101           0.547775         0.624249        0.099024   \n",
       "499           0.849850           0.852580         0.850427        0.002189   \n",
       "\n",
       "     rank_test_score  \n",
       "0                220  \n",
       "1                448  \n",
       "2                161  \n",
       "3                210  \n",
       "4                175  \n",
       "..               ...  \n",
       "495                4  \n",
       "496               50  \n",
       "497              195  \n",
       "498              478  \n",
       "499               98  \n",
       "\n",
       "[500 rows x 18 columns]"
      ]
     },
     "execution_count": 2,
     "metadata": {},
     "output_type": "execute_result"
    }
   ],
   "source": [
    "def shorten_param(param_name):\n",
    "    if \"__\" in param_name:\n",
    "        return param_name.rsplit(\"__\", 1)[1]\n",
    "    return param_name\n",
    "\n",
    "\n",
    "cv_results = cv_results.rename(shorten_param, axis=1)\n",
    "cv_results"
   ]
  },
  {
   "cell_type": "markdown",
   "id": "20f13f75",
   "metadata": {},
   "source": [
    "As we have more than 2 parameters in our randomized-search, we cannot\n",
    "visualize the results using a heatmap. We could still do it pair-wise, but\n",
    "having a two-dimensional projection of a multi-dimensional problem can lead to\n",
    "a wrong interpretation of the scores."
   ]
  },
  {
   "cell_type": "code",
   "execution_count": 3,
   "id": "dcdc52d8",
   "metadata": {},
   "outputs": [
    {
     "data": {
      "image/png": "[encoded data removed]",
      "text/plain": [
       "<Figure size 640x480 with 1 Axes>"
      ]
     },
     "metadata": {},
     "output_type": "display_data"
    }
   ],
   "source": [
    "import seaborn as sns\n",
    "import numpy as np\n",
    "\n",
    "df = pd.DataFrame(\n",
    "    {\n",
    "        \"max_leaf_nodes\": cv_results[\"max_leaf_nodes\"],\n",
    "        \"learning_rate\": cv_results[\"learning_rate\"],\n",
    "        \"score_bin\": pd.cut(\n",
    "            cv_results[\"mean_test_score\"], bins=np.linspace(0.5, 1.0, 6)\n",
    "        ),\n",
    "    }\n",
    ")\n",
    "sns.set_palette(\"YlGnBu_r\")\n",
    "ax = sns.scatterplot(\n",
    "    data=df,\n",
    "    x=\"max_leaf_nodes\",\n",
    "    y=\"learning_rate\",\n",
    "    hue=\"score_bin\",\n",
    "    s=50,\n",
    "    color=\"k\",\n",
    "    edgecolor=None,\n",
    ")\n",
    "ax.set_xscale(\"log\")\n",
    "ax.set_yscale(\"log\")\n",
    "\n",
    "_ = ax.legend(\n",
    "    title=\"mean_test_score\", loc=\"center left\", bbox_to_anchor=(1, 0.5)\n",
    ")"
   ]
  },
  {
   "cell_type": "markdown",
   "id": "d9dfe32f",
   "metadata": {},
   "source": [
    "In the previous plot we see that the top performing values are located in a\n",
    "band of learning rate between 0.01 and 1.0, but we have no control in how the\n",
    "other hyperparameters interact with such values for the learning rate.\n",
    "Instead, we can visualize all the hyperparameters at the same time using a\n",
    "parallel coordinates plot."
   ]
  },
  {
   "cell_type": "code",
   "execution_count": 4,
   "id": "6d676e8b",
   "metadata": {},
   "outputs": [],
   "source": [
    "#!pip install plotly"
   ]
  },
  {
   "cell_type": "code",
   "execution_count": 9,
   "id": "cd877de1",
   "metadata": {},
   "outputs": [
    {
     "data": {
      "application/vnd.plotly.v1+json": {
       "config": {
        "plotlyServerURL": "https://plot.ly"
       },
       "data": [
        {
         "dimensions": [
          {
           "label": "learning_rate",
           "values": {
            "bdata": "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",
            "dtype": "f8"
           }
          },
          {
           "label": "max_leaf_nodes",
           "values": {
            "bdata": "LQRUf3Z1BkD7HeumdS0YQLTez9EArhBAaL2fowFc+T8tBFR/dnUGQAAAAAAAAABAcaN5CU+TAkDqwMn6Y+kWQEJdBnzqrAtAtO+nKx13HUC03s/RAK4EQHGjeQlPkwJALQRUf3Z1BkB+in7irEMcQAAAAAAAAPA/caN5CU+TEkBOTWzWGNETQFum6pGSbhdALQRUf3Z1BkC03s/RAK4EQGi9n6MBXAlAW6bqkZJuE0DFYTFWCoAZQHHxkai7kRFALQRUf3Z1BkAz4pEjgJoNQL+WVVp7LRtAAAAAAAAA8D9ovZ+jAVz5P22wjFao9xlAW6bqkZJuE0DLkmFyT+oYQOrAyfpj6RZAaL2fowFc+T8tBFR/dnUOQLTez9EArhRAAAAAAAAAFEAz4pEjgJoNQHGjeQlPkwJAWu/naABXEkAOzrc6AQUTQK7+ZzUTuRdAtN7P0QCuFEBG+C7CafQbQAAAAAAAAAhAtN7P0QCuDEAAAAAAAAAAQAAAAAAAAPA/AAAAAAAACEAAAAAAAAAAQAAAAAAAAAhAoS4DPnXWEUA5PNK1Eo4fQHGjeQlPkwpAQBPIteD9EECmE9NEkLAeQLTez9EArgxAaL2fowFc+T8eeIFeYcIcQGi9n6MBXPk/0sKFlucWHEC1ldL6ksUZQKYT00SQsBZAKcNOLWPbGkChLgM+ddYVQLTez9EArhBA+x3rpnUtHEBlp23xetYUQGi9n6MBXBlA+eSEOohHGkChLgM+ddYVQGi9n6MBXPk/TXUeqibnGUBOTWzWGNETQM/TZsRihBRALQRUf3Z1BkATwaTtp6AXQHHxkai7kRVAcfGRqLuREUBoJqqjOSIcQCaCSdtPQQ9AmgKwHuFUG0AAAAAAAAAIQGi9n6MBXPk/BfanYDejHUAAAAAAAAAAQBYCqj+7OhdAudG8hKdJFUBovZ+jAVwJQBPBpO2noBNAZadt8XrWHEBXFXL1mzgcQM/TZsRihBRAWu/naABXFkAmgknbT0EPQAK60iPmNxZAcfGRqLuRHUC50byEp0kRQOrAyfpj6RZAaL2fowFc+T9aAMDCHCAXQAAAAAAAAAhAaL2fowFc+T8F9qdgN6MdQC0EVH92dQ5AtN7P0QCuDEAAAAAAAAAQQCaCSdtPQQ9AQBPIteD9EEAAAAAAAADwPws0XJTThxdAM+KRI4CaDUC03s/RAK4MQE5NbNYY0RdAmgKwHuFUF0C03s/RAK4QQAAAAAAAAPA/XKm6jOaOHEAtBFR/dnUOQIeilqHJtx5AtN7P0QCuDEChLgM+ddYRQBnxyBFAzRJAM+KRI4CaDUCH8zvodswcQHhnacdhGR9A30zqTBI3GUAOzrc6AQUXQFUN0w92hBpALQRUf3Z1DkAAAAAAAADwP3GjeQlPkwJAaL2fowFcHUAWAqo/uzoTQE5NbNYY0RdACzRclNOHF0AAAAAAAAAUQLTez9EArhBAAAAAAAAA8D/55IQ6iEceQCqIc79+tBVAaL2fowFcCUBVxxqgIBgSQHGjeQlPkwpAcaN5CU+TEkDOz5jjQHsbQGi9n6MBXPk/AAAAAAAACEBrycTf21IdQLTez9EArhBAcaN5CU+TFkDqwMn6Y+kaQGi9n6MBXPk/AAAAAAAA8D9+in7irEMcQAAAAAAAAPA/bbCMVqj3GUAtBFR/dnUGQGi9n6MBXPk/W6bqkZJuE0DL4HkRvOgXQGi9n6MBXBlALQRUf3Z1DkAtBFR/dnUWQC0EVH92dQZAAAAAAAAA8D9xo3kJT5MCQFXHGqAgGBJAaL2fowFc+T8AAAAAAAAcQL+WVVp7LRtATCTr249ZEEDO0NkcIm4VQDDzclH7BxpAcaN5CU+TAkAAAAAAAADwP1rv52gAVxZAAAAAAAAA8D9a7+doAFcWQAAAAAAAAABAcaN5CU+TFkAmgknbT0EPQBYCqj+7OhNAcfGRqLuRFUAmgknbT0EfQEJdBnzqrAtADZnXJMhhG0Bxo3kJT5MeQEwk69uPWRxAAAAAAAAA8D9ovZ+jAVwJQH6KfuKsQxhA6sDJ+mPpFkAAAAAAAADwPwAAAAAAAAhAMPNyUfsHGkAeeIFeYcIYQMuSYXJP6hhAAAAAAAAA8D9MJOvbj1kUQLTez9EArgRAtN7P0QCuEEAAAAAAAAAAQKEuAz511hFAudG8hKdJEUBlp23xetYUQGi9n6MBXAlAAAAAAAAAGECaArAe4VQbQLTez9EArgRAcfGRqLuREUBbpuqRkm4XQFoAwMIcIBdAaL2fowFc+T9ovZ+jAVz5PwAAAAAAABBAaL2fowFc+T9xo3kJT5MCQAs0XJTThxdAcaN5CU+TCkAtBFR/dnUGQHHxkai7kR1AM+KRI4CaDUBx8ZGou5ERQEJdBnzqrB9AAAAAAAAAAEAz4pEjgJodQLnRvISnSRVAtZXS+pLFHUAz4pEjgJoNQAAAAAAAAPA/caN5CU+TCkDqwMn6Y+kWQGi9n6MBXAlAM+KRI4CaDUC03s/RAK4MQE5NbNYY0RNAaL2fowFc+T9ovZ+jAVz5P2i9n6MBXAlAAAAAAAAACEBCXQZ86qwLQAAAAAAAAPA/caN5CU+TEkAAAAAAAAAAQHGjeQlPkwpAAAAAAAAAAEDqwMn6Y+kWQLTez9EArhBAJoJJ209BD0AtBFR/dnUGQAAAAAAAAPA/bbCMVqj3HUDLkmFyT+oYQEATyLXg/RBAZadt8XrWFEAZ8cgRQM0WQGi9n6MBXPk/TCTr249ZFEChLgM+ddYZQO1S7hkFMB5AcaN5CU+TCkC50byEp0kRQHHxkai7kRFAAAAAAAAACEBovZ+jAVwJQAAAAAAAAAhAAAAAAAAAEEBxo3kJT5MSQBR4pxY6uBxAcaN5CU+TCkAmgknbT0EPQAAAAAAAAABAAAAAAAAA8D9xo3kJT5MCQAAAAAAAAPA/Zadt8XrWHED7HeumdS0YQGi9n6MBXAlAAAAAAAAA8D8tBFR/dnUOQAAAAAAAAABAArrSI+Y3FkBxo3kJT5MCQAAAAAAAAAhA0sKFlucWGEBovZ+jAVwJQLTez9EArgRABx8pW8AaHUC03s/RAK4MQLTez9EArgxA9vUd3pXuH0BaAMDCHCAXQL+WVVp7LRtAWu/naABXEkBjJpUbS5QbQHHxkai7kRVAcaN5CU+TAkCoPFQ/GSgeQFum6pGSbhtAcaN5CU+TAkBovZ+jAVz5PwAAAAAAAABAaL2fowFc+T9+in7irEMYQC0EVH92dQZAZSNE/dPeHUAAAAAAAADwP7Tez9EArgRAdOCwekAkFUC03s/RAK4EQBR4pxY6uBxAAAAAAAAAAEBxo3kJT5MSQMvgeRG86BdAAAAAAAAACEAtBFR/dnUWQGWnbfF61hRAuh/MT7WjHEC03s/RAK4EQLTez9EArgxATCTr249ZHEC03s/RAK4EQGVPFhbUCx9AGfHIEUDNEkAAAAAAAAAIQF2gJh9D9x5ALQRUf3Z1FkC03s/RAK4EQA7OtzoBBRdAW6bqkZJuE0BAE8i14P0YQBnxyBFAzRJAcaN5CU+TAkBOTWzWGNEXQLTez9EArgRAaL2fowFc+T8AAAAAAAAIQKYT00SQsBpAaL2fowFc+T+03s/RAK4QQAAAAAAAAPA/AAAAAAAACEAAAAAAAAAUQN9M6kwSNx1Ay+B5EbzoF0Bxo3kJT5MCQAAAAAAAABRATk1s1hjRE0DL4HkRvOgbQG2wjFao9xlAAAAAAAAA8D8tBFR/dnUGQEwk69uPWRxAfop+4qxDGEBxo3kJT5MKQLTez9EArgRAA+7zJvt8HkAAAAAAAADwPwAAAAAAAPA/BMNx/txHH0AAAAAAAADwPwAAAAAAAPA/AAAAAAAA8D8z4pEjgJoNQAAAAAAAABRArv5nNRO5F0AtBFR/dnUOQAAAAAAAAPA/LQRUf3Z1DkBxo3kJT5MSQPnkhDqIRxpATCTr249ZEEC50byEp0kRQC0EVH92dQZAQBPIteD9EEBovZ+jAVz5P2i9n6MBXAlAcaN5CU+TGkBbpuqRkm4bQAs0XJTThxtAAAAAAAAA8D94Z2nHYRkfQGi9n6MBXAlAAAAAAAAAAEApw04tY9saQGi9n6MBXPk/caN5CU+TAkBovZ+jAVz5P3Hxkai7kRFAAAAAAAAA8D/NGLmFYmQcQG2wjFao9xVAFgKqP7s6E0ChLgM+ddYRQGi9n6MBXPk/tN7P0QCuEEBxo3kJT5MKQAs0XJTThxtAMPNyUfsHGkBbpuqRkm4bQGi9n6MBXPk/AAAAAAAACEBovZ+jAVz5P/sd66Z1LRRAAAAAAAAAGEDlZ70OrV4eQFXHGqAgGBJAphPTRJCwGkDLkmFyT+oYQLTez9EArgRAaL2fowFc+T+03s/RAK4MQGi9n6MBXPk/LQRUf3Z1DkBMJOvbj1kYQFum6pGSbhNA+x3rpnUtHEC03s/RAK4EQEJdBnzqrAtAVccaoCAYEkAUeKcWOrgcQJoCsB7hVBdALQRUf3Z1BkBxo3kJT5MKQHHxkai7kRVAAAAAAAAA8D8AAAAAAADwP6YT00SQsBZATCTr249ZHEBxo3kJT5MCQPHdYOmeEhtAVccaoCAYEkAAAAAAAADwP6+2AgkhbxhALQRUf3Z1BkBx8ZGou5ERQAAAAAAAABBAAAAAAAAA8D9aBJHHIMsfQAAAAAAAAPA/tN7P0QCuBEBMJOvbj1kQQFUN0w92hBpAcaN5CU+TCkBjJpUbS5QbQGi9n6MBXPk/+x3rpnUtFEBxo3kJT5MaQB54gV5hwhxAKMDBhSLFG0BdoCYfQ/ceQLTvpysddx1AAAAAAAAAAEBAE8i14P0YQK7+ZzUTuRdAAAAAAAAACEBOTWzWGNEXQDvmT3bMph9AAAAAAAAACEBtsIxWqPcZQBnxyBFAzRJAtN7P0QCuFEAZ8cgRQM0WQGi9n6MBXPk/ArrSI+Y3HkC03s/RAK4EQCqIc79+tBVAGfHIEUDNFkDSwoWW5xYYQAAAAAAAAABA+eSEOohHGkAOzrc6AQUTQCaCSdtPQQ9AaL2fowFc+T8AAAAAAAAIQLTez9EArgRAtN7P0QCuEEDFYTFWCoAdQGi9n6MBXAlAh6KWocm3HkDfTOpMEjcdQCaCSdtPQR9AcaN5CU+TAkC03s/RAK4EQAAAAAAAAABAlZNWjU9mGkB04LB6QCQVQATDcf7cRxtArv5nNRO5G0B+in7irEMYQLp3Rv4YZR1AtzCtfTARGUAAAAAAAAAIQC0EVH92dQ5AcaN5CU+TCkAAAAAAAAAQQEwk69uPWRhALQRUf3Z1BkD7HeumdS0YQA==",
            "dtype": "f8"
           }
          },
          {
           "label": "max_bins",
           "values": {
            "bdata": "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",
            "dtype": "f8"
           }
          },
          {
           "label": "min_samples_leaf",
           "values": {
            "bdata": "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",
            "dtype": "f8"
           }
          },
          {
           "label": "l2_regularization",
           "values": {
            "bdata": "BshG6DSCA8CtBF7k9a0QwJboZXQCqPo/c9JgrRzfAsDUT3w4YDDxP9vew+3tEhDArJsmIdFA6D8lYUV6bTMXwE5qD5nSC+a/h5vBdwdM4z+bsiTjVIYGwMe0BKZ6TxbADHjf34TQFcCUdvA3hh72Pz1aqSS3RQDAnjT7gIUaEcCiWpeKYm4TwMcdFCjVFw/AJhtG8A/CB8BVWo4G3D0TwGk6iXzCFBLAyN92DOXdDcAR1DzjFT0XwG0Q20kOLfW/EMh08suFFsBoXoOpACMNwI1C2ieRDAvARE2n9tOGF8DLVXBgbXMVwEa0EaW0ivO/BOlpPA1ECMDx13/fVzcxPwBcX5OcNBXAmL+i/Eju5j/z08RFDO7Ov9LMrbM4LPc/taVMsSopF8Bv0yJNR8wXwAQvpzftlPk/9LG0qgcc8r9UW0FHtizuv/oQl2JXZ9S/EVcJbqwmD8AHEuKbavgVwJ1lpu5WgfO/Bh5FekAxyL824BG6s/8HQD6RPqp8/xXAr8OJM98Npr/08U/6EaX+P3wBNu4uIgjAGnlk/g8SF8AB+Yci7NALwCBDuGq2OOI/HmHkXhD0CsDOevy6OnT5v4VKlc8nqwTAkaTPqqQu1b9GfcKUgYPrP26fyNC8TwrA9eZFq7b0AMA5cwgfLJYCQIKcjQi6ThfAfefI41FdF8BK4cvPolINwGfqxt0LfxTAsx+uW+VPA8CQvYK1yhkTwAVmxP4l9cU/gQfodxj4EsDRp5wU+v8BQD4Wk4TaEgnAww/4CnXbBUDTTqcmgE4OwFzmS+ZFFUq/Is5kh6t2BcB/EYt9tr0GQNuqMEi7/QjAm9cteKo1uz9CyycLKn76v7VSE5k6EwRAq0qi3KaC6D/GPz8UJFfzvzRyFdHgigRAOcg0SqsBCMBSQpDjumHXP5g6bMl2tQvAAq2mDNXv5b8MNqQFhnQMwGCoQgLMUQLAUPq0SP6ADsBeh9vAPP8AQMl6zor99RPAd6lvnOmdE8CcS2e6YmfkP2W2Bb73WBHAt5iPa6FOD8C+xCtN9a0BwHT51O3X0eW/aW3UAnHBDMDch75Ho8sWwFCO6/Vj8vG/P72UqdVl9j/A0BccysEVwNtNQAijDABAmaQlk2Am9z9tU/YJlAHDP1dzG9hnApO/m/WsiIP1FsCi4R4ZBgMWwD1CNrmNkBDAkeNDJ70o6786RO9T8Q8WwFnyf9fMMfQ/siN4NqoEAsDy21n7Fi0SwL/oFB0t7QNA5GkI6IJlEMAY1lyOGYr6P+Nv9Mm/fvI/n6QjGi5q9b/D5cnKbkISwFs6NGgegf8/b77a3Pu91j8S9OzHvAoWwAtaq9UGqKw/ig2YP/GsCMDgsulBCvv4v4MyLdOBLds/lFvPMYkA0L9Ly+6A5KQAQHKRPi6RthXAdZ1d4zI7EsAW4lf/qZQCwGwdRQQB4eo/DceLNWAJEsBs9ctRJkIVwEh9NUICFw7AD3BToB9F77+eFCeV4oz7v9/XeLCjyvi/c9MBi77B7z+uQVf1UIQJwOS/ufDzaes/7Lt/Twpb/T/VRpSDx0v+v9YpT0kSTA/ALBfnEy/7DsC/fV8TDAYFQCkBm0bLUQ7AyG4lPg0F4L/2fAOpN1YGQMyCNWozbwBAXnQao0/6+b+LvsimYDH0P4oLKZ4Y2xTAbG0jU6HFAUD6B8y+lg4TwPQM73Ye1RHAcKp8yRG1D8CM/0Tu4HYWwLGBfZjk6ALAizCwzhU6FMCFAbAs9TQFQPVLXNJBEBLANkkKNRO1+L/MsM8gbK4VwP+vpSyYi/O/jBV6YeJ0BMDNaUg/WK4TwMIxc8PCYAfAoaQJivdSBUBmbxQZt5gIwAlXEjE53fC/aEyEV8/2EcDRR16LBtHqP7pNwnb16BXAL4rvFu/yDsDyM1+Kw3bxvyRGxNEaVOa/N2FaNhD2AEAenMhXZjvPv0JCeeJIjQdAV+g+pciD4b8DAYhDcM7yPwVux1kKOOy/yvhU//3DAMALAJPQG6Osvz1oXa10ttY/B+iiuNyi/7/fyr4X3sIFwPRkT9TzRxLAnxpEdads7T+VlW4xAxkEwJESkbsi6AHAY36HQkmoEcBvLPa/J+zzP2yTPe+nJxHA9L6YRAf6EMBPKIfKiz/1P2iHtcXLGRXAxf8YjgUGFMCsY18ZmgYAwF9zMpkL+/O/oZlJ45E+F8DzG+tkWkrmP9YHFQ77JwLAaT4iRE+3AEBf75pqNBHzv4CdfY2cKvG/faGwYwwT1D+9oeVksRAKwC2ekaaF2wFAu4gJMVNHBsD5CemfJheuvy6u39JRzwPApFh/dKmO2L9tm1po2O4NwDh64Q3jVwPAtwc3UJL+DcABbtl9rJAUwHvu89alp/K/MUFXpJBt+z9WqdxeAOHbv1FC+DBhBxXAsQj/rKocDMDW6+6jmw7fv64ZkqdLAAvAd2OtHN3eCMDqc4SHHjUAwBAMVFryjfo/2+MLiJkWAMC3ai9SpHTlv4wIESixqwdArSlVfrCFEsBSOh7v3RITwPQWLuBcwgDArIwYuoIN5T/oSkhH5hgHwHHoo86WkOE/WCKAAUk4EMBo/dGoFO3XP/vBD4awdAPAhqi4i1QUx78dxNL/nXgGwCRdajIo9fU/kk+RCjBwAcA9OYhMQQkEQHI9aqnqv7s/JdCol5OLEcAz0HJcynsFQID0K950cQVAW/9hmLwI8L+hQB0cR9f/P78X0bnTBfo/i+lAsiaMDMDOrnN4tJgTwJmvtagWbRHAHG8P5rXIAMDjP2L2Xfb/P6GC30WQScm/rdliD741C8C7ZVEv6JcWwMcmjUuRuPE/rbMelKiw0L+uhYCphp0BwIVD3HlvKc2/+yO0qfkhCcDE3OLxCMwFwIxKawr5oXm/O5lrXDGb9z+IGE/bYJcVwH0j0fcrxfQ/XRp5DjZc27850mPCw6Dwv8koJjbhvBTA3h3svSJQDsD+PKoBCufyv1PVDy5vwPa/y8tNWLea9D8jWmjuYr0BQNM4D4CKZxbAWZgzLaVPAMAq0phXGj7cP9ssRbCeR/U/AUO/q5n7D8DekRxj7GfPPwgk9Zwq4gdARdS/5fWN/T9/kMCJ2lP7vxVUEfOiWNu/xk2Wq8zp/r+hBCRVFXsBQHxLknDkOhPAXgNpq1YbAsCFC8WIe/ECwKiIHw0/LAPARHtK6HV1DcCuLWZAPXz8P3LLFcwc+vA/0FE+jK0zBUDJKrvPCmn1P7jYrzww0vK/s25bb+j29L/wTpy2t334Pyu1JxPwT/O/IXe1pRmYB0BD65H+UgALwA1t30x2+hLAMp3glMLmFMAuD57r0Jj9v6oVY+b+IAbAPLxhGbEP+D9zE+VM1xkFwAsZwB5T+gVA6N/m7G9QEsBfEDotXcr6P2Zxw6g3Y/+/upqQE+BuD8ApCLx4WsUXwHZY5Ko7Vd8/9R74VUdn1L+WiMEWl4wAQJ/CwpjxUxPATHidXsu3CcBjfMBcDMrMP9uD8aExqRbABrSesiafFcDUh5jjw/L7v9dHhFQVhgPAXltkrZulA8CXxmZfrtoEQLoAXb1n9dk/Kzb3BzG6dD/HLecuW0gTwIBKob2pERDAweAJ2KbT8j+L769gzzjgP2LKBSYsfv2/dgmA5RbNAkDIhxHKje0AwDNeWhHxiAFANZiZPaMrFcALAWIp//z/v5b2NhQcbQvA6agtvOwj1L/uIjj9KAUTwJfUaI+lNfc/mO6oHLb5AEDx4TMIhFwEQNXFk1cCxA7AIhjBERKlD8Ct4+4/wmUHwGj399UYuwVAwCZYvFBbEcAKB5pUwCoGQDYz+e5g/fu/wYLF73yW6z86GeKBL2QUwOp+X/NEOum/yOrvmlUAAsA7vvWhKm75v4E8vdiaehXA4m+pPFry/j8vectUZlUKwBGCKN0CBAJAjG1HII+Y+D/GlgEH5KwAwFqJdhsLZvI/Ow3TMgKY7b9JzIBpd3TrvwMfQLWgghHA0HjgPg9gDsBMg7oGpAoBQOSXwiRiEsK/wTOSvuu6CcCcubAczP4TwL8u2ZY2+NO/3H4ECeq09D9/MFBNnJfIP97OTR2EZwRASSLonaty+z8EwTAflwMKwBiKnsCL4RXAQbykZWkIBUD/TVIGSuH0vywYAQtxO58/+Nj66jGO5T8RkvYDkAcGwFrZo7YbNRPAaG8wQxeB+j80DdsKBXISwEarIwN7jw/AB6JR5eghCsAfBNVans4QwKSUIjCiq/k/Zj9uEOTaDcCrNckCvpsSwEIfdOWkmxbAc+/0EUUQ478b9O27GMjrP0eivG1brw3A4DOhuaP4CMDmfOrJuK8TwHqvZuT3AhXA47Tg2juUD8C89slgwukVwO1lp0pPiw3A5e6+7v/1BMCTxgY84TDUP3LMqjPKOgjAzUbhpdL7+L+xCPLHNroRwI4lOs0xHfs/DO8nKFXBEsDiZ3OgDeLxP9Hev+j5gfk/nh4F8Y/A1T+qnhxxo5gMwOIao8/snf6/yCkwIaY59j+KgliX3wEUwIAkLLZTwRDAFOUaRjQU8D9tQq7xiznyv1GhWH2z/QNAOy/ZTk5l5r+njrCYnMEXwBzi99pwB+0/aUdupTaxAcCYl3U+JKcQwJHldzvK+c4/Mt7cai9h+D/h2IJm1n8AQJGiQz1W3Py/dUi/4YZtDcDZ3EuoYNQXwMjV1g/X7AjALfM1iAsO/z/RqESa1joRwERoRuRyq8m/M4+20LFYFMB+2KGGYElwP4F0qUY3GANA4B1SmExz9b/bch0HuXIUwE73f61t9v4/O190QLYu6r8bSkfwBMELwDcV4b5VZxTAuKhYDlFVp7+5Xt/ZvizYPyVzAUHAlQrA/hXDsHbaB0C3BeREBiwHwDuhY3K8evg/GIGdykEh7r/Gd+Io80XdP7S/xxN/vuM/h0CA1cz6BUCysXijtqEQwKFl3e/nD98/n8gj6Xa8CsCkVNvVDtcHwMrtmpVHFhbAeWvKZggGF8B5WQCm7gn/P8RLDPD5Mqi/b2j/Jdrx4z+mNyYYjrcBwPITV2+kk/s//dBkiGAj4j97EFL462QXwC/dPlpXwgJAHw+lVEas7j+tbJos6y8DwE5BBeXKh9U/cTvOAhaA/T9WcKXIxAoRwMii7ewrGfk/0cJHnK/S/T+GZGoqgPqtPyTJ8HWKFQTAu60Q+jh8EMC0G18qUOj2v25OdAWPnAFAdOUXIMwEDcC0mkfdnRDmPyNFA/qZkgzAS9xNrCAHEcCdVpAG6wYKwGgWp2jDkxXAZ8Pso4GQBEDL66x2PT/RP8qhT5oXh/2/1xki0sAl2j+o71yZsZsKwDBhxR0KNg/AtKYlb6Q88j+NEy83CSEVwA==",
            "dtype": "f8"
           }
          },
          {
           "label": "mean_test_score",
           "values": {
            "bdata": "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",
            "dtype": "f8"
           }
          }
         ],
         "domain": {
          "x": [
           0,
           1
          ],
          "y": [
           0,
           1
          ]
         },
         "line": {
          "color": {
           "bdata": "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",
           "dtype": "f8"
          },
          "coloraxis": "coloraxis"
         },
         "name": "",
         "type": "parcoords"
        }
       ],
       "layout": {
        "coloraxis": {
         "colorbar": {
          "title": {
           "text": "mean_test_score"
          }
         },
         "colorscale": [
          [
           0,
           "#440154"
          ],
          [
           0.1111111111111111,
           "#482878"
          ],
          [
           0.2222222222222222,
           "#3e4989"
          ],
          [
           0.3333333333333333,
           "#31688e"
          ],
          [
           0.4444444444444444,
           "#26828e"
          ],
          [
           0.5555555555555556,
           "#1f9e89"
          ],
          [
           0.6666666666666666,
           "#35b779"
          ],
          [
           0.7777777777777778,
           "#6ece58"
          ],
          [
           0.8888888888888888,
           "#b5de2b"
          ],
          [
           1,
           "#fde725"
          ]
         ]
        },
        "legend": {
         "tracegroupgap": 0
        },
        "margin": {
         "t": 60
        },
        "template": {
         "data": {
          "bar": [
           {
            "error_x": {
             "color": "#2a3f5f"
            },
            "error_y": {
             "color": "#2a3f5f"
            },
            "marker": {
             "line": {
              "color": "#E5ECF6",
              "width": 0.5
             },
             "pattern": {
              "fillmode": "overlay",
              "size": 10,
              "solidity": 0.2
             }
            },
            "type": "bar"
           }
          ],
          "barpolar": [
           {
            "marker": {
             "line": {
              "color": "#E5ECF6",
              "width": 0.5
             },
             "pattern": {
              "fillmode": "overlay",
              "size": 10,
              "solidity": 0.2
             }
            },
            "type": "barpolar"
           }
          ],
          "carpet": [
           {
            "aaxis": {
             "endlinecolor": "#2a3f5f",
             "gridcolor": "white",
             "linecolor": "white",
             "minorgridcolor": "white",
             "startlinecolor": "#2a3f5f"
            },
            "baxis": {
             "endlinecolor": "#2a3f5f",
             "gridcolor": "white",
             "linecolor": "white",
             "minorgridcolor": "white",
             "startlinecolor": "#2a3f5f"
            },
            "type": "carpet"
           }
          ],
          "choropleth": [
           {
            "colorbar": {
             "outlinewidth": 0,
             "ticks": ""
            },
            "type": "choropleth"
           }
          ],
          "contour": [
           {
            "colorbar": {
             "outlinewidth": 0,
             "ticks": ""
            },
            "colorscale": [
             [
              0,
              "#0d0887"
             ],
             [
              0.1111111111111111,
              "#46039f"
             ],
             [
              0.2222222222222222,
              "#7201a8"
             ],
             [
              0.3333333333333333,
              "#9c179e"
             ],
             [
              0.4444444444444444,
              "#bd3786"
             ],
             [
              0.5555555555555556,
              "#d8576b"
             ],
             [
              0.6666666666666666,
              "#ed7953"
             ],
             [
              0.7777777777777778,
              "#fb9f3a"
             ],
             [
              0.8888888888888888,
              "#fdca26"
             ],
             [
              1,
              "#f0f921"
             ]
            ],
            "type": "contour"
           }
          ],
          "contourcarpet": [
           {
            "colorbar": {
             "outlinewidth": 0,
             "ticks": ""
            },
            "type": "contourcarpet"
           }
          ],
          "heatmap": [
           {
            "colorbar": {
             "outlinewidth": 0,
             "ticks": ""
            },
            "colorscale": [
             [
              0,
              "#0d0887"
             ],
             [
              0.1111111111111111,
              "#46039f"
             ],
             [
              0.2222222222222222,
              "#7201a8"
             ],
             [
              0.3333333333333333,
              "#9c179e"
             ],
             [
              0.4444444444444444,
              "#bd3786"
             ],
             [
              0.5555555555555556,
              "#d8576b"
             ],
             [
              0.6666666666666666,
              "#ed7953"
             ],
             [
              0.7777777777777778,
              "#fb9f3a"
             ],
             [
              0.8888888888888888,
              "#fdca26"
             ],
             [
              1,
              "#f0f921"
             ]
            ],
            "type": "heatmap"
           }
          ],
          "histogram": [
           {
            "marker": {
             "pattern": {
              "fillmode": "overlay",
              "size": 10,
              "solidity": 0.2
             }
            },
            "type": "histogram"
           }
          ],
          "histogram2d": [
           {
            "colorbar": {
             "outlinewidth": 0,
             "ticks": ""
            },
            "colorscale": [
             [
              0,
              "#0d0887"
             ],
             [
              0.1111111111111111,
              "#46039f"
             ],
             [
              0.2222222222222222,
              "#7201a8"
             ],
             [
              0.3333333333333333,
              "#9c179e"
             ],
             [
              0.4444444444444444,
              "#bd3786"
             ],
             [
              0.5555555555555556,
              "#d8576b"
             ],
             [
              0.6666666666666666,
              "#ed7953"
             ],
             [
              0.7777777777777778,
              "#fb9f3a"
             ],
             [
              0.8888888888888888,
              "#fdca26"
             ],
             [
              1,
              "#f0f921"
             ]
            ],
            "type": "histogram2d"
           }
          ],
          "histogram2dcontour": [
           {
            "colorbar": {
             "outlinewidth": 0,
             "ticks": ""
            },
            "colorscale": [
             [
              0,
              "#0d0887"
             ],
             [
              0.1111111111111111,
              "#46039f"
             ],
             [
              0.2222222222222222,
              "#7201a8"
             ],
             [
              0.3333333333333333,
              "#9c179e"
             ],
             [
              0.4444444444444444,
              "#bd3786"
             ],
             [
              0.5555555555555556,
              "#d8576b"
             ],
             [
              0.6666666666666666,
              "#ed7953"
             ],
             [
              0.7777777777777778,
              "#fb9f3a"
             ],
             [
              0.8888888888888888,
              "#fdca26"
             ],
             [
              1,
              "#f0f921"
             ]
            ],
            "type": "histogram2dcontour"
           }
          ],
          "mesh3d": [
           {
            "colorbar": {
             "outlinewidth": 0,
             "ticks": ""
            },
            "type": "mesh3d"
           }
          ],
          "parcoords": [
           {
            "line": {
             "colorbar": {
              "outlinewidth": 0,
              "ticks": ""
             }
            },
            "type": "parcoords"
           }
          ],
          "pie": [
           {
            "automargin": true,
            "type": "pie"
           }
          ],
          "scatter": [
           {
            "fillpattern": {
             "fillmode": "overlay",
             "size": 10,
             "solidity": 0.2
            },
            "type": "scatter"
           }
          ],
          "scatter3d": [
           {
            "line": {
             "colorbar": {
              "outlinewidth": 0,
              "ticks": ""
             }
            },
            "marker": {
             "colorbar": {
              "outlinewidth": 0,
              "ticks": ""
             }
            },
            "type": "scatter3d"
           }
          ],
          "scattercarpet": [
           {
            "marker": {
             "colorbar": {
              "outlinewidth": 0,
              "ticks": ""
             }
            },
            "type": "scattercarpet"
           }
          ],
          "scattergeo": [
           {
            "marker": {
             "colorbar": {
              "outlinewidth": 0,
              "ticks": ""
             }
            },
            "type": "scattergeo"
           }
          ],
          "scattergl": [
           {
            "marker": {
             "colorbar": {
              "outlinewidth": 0,
              "ticks": ""
             }
            },
            "type": "scattergl"
           }
          ],
          "scattermap": [
           {
            "marker": {
             "colorbar": {
              "outlinewidth": 0,
              "ticks": ""
             }
            },
            "type": "scattermap"
           }
          ],
          "scattermapbox": [
           {
            "marker": {
             "colorbar": {
              "outlinewidth": 0,
              "ticks": ""
             }
            },
            "type": "scattermapbox"
           }
          ],
          "scatterpolar": [
           {
            "marker": {
             "colorbar": {
              "outlinewidth": 0,
              "ticks": ""
             }
            },
            "type": "scatterpolar"
           }
          ],
          "scatterpolargl": [
           {
            "marker": {
             "colorbar": {
              "outlinewidth": 0,
              "ticks": ""
             }
            },
            "type": "scatterpolargl"
           }
          ],
          "scatterternary": [
           {
            "marker": {
             "colorbar": {
              "outlinewidth": 0,
              "ticks": ""
             }
            },
            "type": "scatterternary"
           }
          ],
          "surface": [
           {
            "colorbar": {
             "outlinewidth": 0,
             "ticks": ""
            },
            "colorscale": [
             [
              0,
              "#0d0887"
             ],
             [
              0.1111111111111111,
              "#46039f"
             ],
             [
              0.2222222222222222,
              "#7201a8"
             ],
             [
              0.3333333333333333,
              "#9c179e"
             ],
             [
              0.4444444444444444,
              "#bd3786"
             ],
             [
              0.5555555555555556,
              "#d8576b"
             ],
             [
              0.6666666666666666,
              "#ed7953"
             ],
             [
              0.7777777777777778,
              "#fb9f3a"
             ],
             [
              0.8888888888888888,
              "#fdca26"
             ],
             [
              1,
              "#f0f921"
             ]
            ],
            "type": "surface"
           }
          ],
          "table": [
           {
            "cells": {
             "fill": {
              "color": "#EBF0F8"
             },
             "line": {
              "color": "white"
             }
            },
            "header": {
             "fill": {
              "color": "#C8D4E3"
             },
             "line": {
              "color": "white"
             }
            },
            "type": "table"
           }
          ]
         },
         "layout": {
          "annotationdefaults": {
           "arrowcolor": "#2a3f5f",
           "arrowhead": 0,
           "arrowwidth": 1
          },
          "autotypenumbers": "strict",
          "coloraxis": {
           "colorbar": {
            "outlinewidth": 0,
            "ticks": ""
           }
          },
          "colorscale": {
           "diverging": [
            [
             0,
             "#8e0152"
            ],
            [
             0.1,
             "#c51b7d"
            ],
            [
             0.2,
             "#de77ae"
            ],
            [
             0.3,
             "#f1b6da"
            ],
            [
             0.4,
             "#fde0ef"
            ],
            [
             0.5,
             "#f7f7f7"
            ],
            [
             0.6,
             "#e6f5d0"
            ],
            [
             0.7,
             "#b8e186"
            ],
            [
             0.8,
             "#7fbc41"
            ],
            [
             0.9,
             "#4d9221"
            ],
            [
             1,
             "#276419"
            ]
           ],
           "sequential": [
            [
             0,
             "#0d0887"
            ],
            [
             0.1111111111111111,
             "#46039f"
            ],
            [
             0.2222222222222222,
             "#7201a8"
            ],
            [
             0.3333333333333333,
             "#9c179e"
            ],
            [
             0.4444444444444444,
             "#bd3786"
            ],
            [
             0.5555555555555556,
             "#d8576b"
            ],
            [
             0.6666666666666666,
             "#ed7953"
            ],
            [
             0.7777777777777778,
             "#fb9f3a"
            ],
            [
             0.8888888888888888,
             "#fdca26"
            ],
            [
             1,
             "#f0f921"
            ]
           ],
           "sequentialminus": [
            [
             0,
             "#0d0887"
            ],
            [
             0.1111111111111111,
             "#46039f"
            ],
            [
             0.2222222222222222,
             "#7201a8"
            ],
            [
             0.3333333333333333,
             "#9c179e"
            ],
            [
             0.4444444444444444,
             "#bd3786"
            ],
            [
             0.5555555555555556,
             "#d8576b"
            ],
            [
             0.6666666666666666,
             "#ed7953"
            ],
            [
             0.7777777777777778,
             "#fb9f3a"
            ],
            [
             0.8888888888888888,
             "#fdca26"
            ],
            [
             1,
             "#f0f921"
            ]
           ]
          },
          "colorway": [
           "#636efa",
           "#EF553B",
           "#00cc96",
           "#ab63fa",
           "#FFA15A",
           "#19d3f3",
           "#FF6692",
           "#B6E880",
           "#FF97FF",
           "#FECB52"
          ],
          "font": {
           "color": "#2a3f5f"
          },
          "geo": {
           "bgcolor": "white",
           "lakecolor": "white",
           "landcolor": "#E5ECF6",
           "showlakes": true,
           "showland": true,
           "subunitcolor": "white"
          },
          "hoverlabel": {
           "align": "left"
          },
          "hovermode": "closest",
          "mapbox": {
           "style": "light"
          },
          "paper_bgcolor": "white",
          "plot_bgcolor": "#E5ECF6",
          "polar": {
           "angularaxis": {
            "gridcolor": "white",
            "linecolor": "white",
            "ticks": ""
           },
           "bgcolor": "#E5ECF6",
           "radialaxis": {
            "gridcolor": "white",
            "linecolor": "white",
            "ticks": ""
           }
          },
          "scene": {
           "xaxis": {
            "backgroundcolor": "#E5ECF6",
            "gridcolor": "white",
            "gridwidth": 2,
            "linecolor": "white",
            "showbackground": true,
            "ticks": "",
            "zerolinecolor": "white"
           },
           "yaxis": {
            "backgroundcolor": "#E5ECF6",
            "gridcolor": "white",
            "gridwidth": 2,
            "linecolor": "white",
            "showbackground": true,
            "ticks": "",
            "zerolinecolor": "white"
           },
           "zaxis": {
            "backgroundcolor": "#E5ECF6",
            "gridcolor": "white",
            "gridwidth": 2,
            "linecolor": "white",
            "showbackground": true,
            "ticks": "",
            "zerolinecolor": "white"
           }
          },
          "shapedefaults": {
           "line": {
            "color": "#2a3f5f"
           }
          },
          "ternary": {
           "aaxis": {
            "gridcolor": "white",
            "linecolor": "white",
            "ticks": ""
           },
           "baxis": {
            "gridcolor": "white",
            "linecolor": "white",
            "ticks": ""
           },
           "bgcolor": "#E5ECF6",
           "caxis": {
            "gridcolor": "white",
            "linecolor": "white",
            "ticks": ""
           }
          },
          "title": {
           "x": 0.05
          },
          "xaxis": {
           "automargin": true,
           "gridcolor": "white",
           "linecolor": "white",
           "ticks": "",
           "title": {
            "standoff": 15
           },
           "zerolinecolor": "white",
           "zerolinewidth": 2
          },
          "yaxis": {
           "automargin": true,
           "gridcolor": "white",
           "linecolor": "white",
           "ticks": "",
           "title": {
            "standoff": 15
           },
           "zerolinecolor": "white",
           "zerolinewidth": 2
          }
         }
        }
       }
      }
     },
     "metadata": {},
     "output_type": "display_data"
    }
   ],
   "source": [
    "import numpy as np\n",
    "import plotly.express as px\n",
    "\n",
    "fig = px.parallel_coordinates(\n",
    "    cv_results.rename(shorten_param, axis=1).apply(\n",
    "        {\n",
    "            \"learning_rate\": np.log10,\n",
    "            \"max_leaf_nodes\": np.log2,\n",
    "            \"max_bins\": np.log2,\n",
    "            \"min_samples_leaf\": np.log10,\n",
    "            \"l2_regularization\": np.log10,\n",
    "            \"mean_test_score\": lambda x: x,\n",
    "        }\n",
    "    ),\n",
    "    color=\"mean_test_score\",\n",
    "    color_continuous_scale=px.colors.sequential.Viridis,\n",
    ")\n",
    "fig.show()"
   ]
  },
  {
   "cell_type": "markdown",
   "id": "463d6ae1",
   "metadata": {},
   "source": [
    "<div class=\"admonition note alert alert-info\">\n",
    "<p class=\"first admonition-title\" style=\"font-weight: bold;\">Note</p>\n",
    "<p class=\"last\">We <strong>transformed most axis values by taking a log10 or log2</strong> to\n",
    "spread the active ranges and improve the readability of the plot.</p>\n",
    "</div>\n",
    "\n",
    "The parallel coordinates plot displays the values of the hyperparameters on\n",
    "different columns while the performance metric is color coded. Thus, we are\n",
    "able to quickly inspect if there is a range of hyperparameters which is\n",
    "working or not.\n",
    "\n",
    "It is possible to **select a range of results by clicking and holding on any\n",
    "axis** of the parallel coordinate plot. You can then slide (move) the range\n",
    "selection and cross two selections to see the intersections. You can undo a\n",
    "selection by clicking once again on the same axis.\n",
    "\n",
    "In particular for this hyperparameter search, it is interesting to confirm\n",
    "that the yellow lines (top performing models) all reach intermediate values\n",
    "for the learning rate, that is, tick values between -2 and 0 which correspond\n",
    "to learning rate values of 0.01 to 1.0 once we invert back the log10 transform\n",
    "for that axis.\n",
    "\n",
    "But now we can also observe that it is not possible to select the highest\n",
    "performing models by selecting lines of on the `max_bins` axis with tick\n",
    "values between 1 and 3.\n",
    "\n",
    "The other hyperparameters are not very sensitive. We can check that if we\n",
    "select the `learning_rate` axis tick values between -1.5 and -0.5 and\n",
    "`max_bins` tick values between 5 and 8, we always select top performing\n",
    "models, whatever the values of the other hyperparameters."
   ]
  },
  {
   "cell_type": "markdown",
   "id": "4b91319d",
   "metadata": {},
   "source": [
    "In this notebook, we saw how to interactively explore the results of a large\n",
    "randomized search with multiple interacting hyperparameters. In particular we\n",
    "observed that some hyperparameters have very little impact on the\n",
    "cross-validation score, while others have to be adjusted within a specific\n",
    "range to get models with good predictive accuracy."
   ]
  }
 ],
 "metadata": {
  "jupytext": {
   "main_language": "python"
  },
  "kernelspec": {
   "display_name": "Python 3",
   "language": "python",
   "name": "python3"
  },
  "language_info": {
   "codemirror_mode": {
    "name": "ipython",
    "version": 3
   },
   "file_extension": ".py",
   "mimetype": "text/x-python",
   "name": "python",
   "nbconvert_exporter": "python",
   "pygments_lexer": "ipython3",
   "version": "3.13.1"
  },
  "nbreset": "https://raw.githubusercontent.com/INRIA/scikit-learn-mooc/main/notebooks/parameter_tuning_parallel_plot.ipynb"
 },
 "nbformat": 4,
 "nbformat_minor": 5
}
